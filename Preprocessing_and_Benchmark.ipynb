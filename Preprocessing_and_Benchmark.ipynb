{
  "nbformat": 4,
  "nbformat_minor": 0,
  "metadata": {
    "colab": {
      "provenance": [],
      "gpuType": "T4",
      "machine_shape": "hm"
    },
    "kernelspec": {
      "name": "python3",
      "display_name": "Python 3"
    },
    "language_info": {
      "name": "python"
    },
    "accelerator": "GPU"
  },
  "cells": [
    {
      "cell_type": "markdown",
      "source": [
        "# Preprocessing and Benchmarking"
      ],
      "metadata": {
        "id": "-bOAzMkjhcfy"
      }
    },
    {
      "cell_type": "markdown",
      "source": [
        "By: Urban Halpern\n",
        "\n",
        "Date: 12/5/2024"
      ],
      "metadata": {
        "id": "Z6dAwLc5hmsj"
      }
    },
    {
      "cell_type": "markdown",
      "source": [
        "Original dataset can be found [here](https://www.kaggle.com/datasets/andrewmvd/lung-and-colon-cancer-histopathological-images/data). We will be working with a subset of the data that only contains lung cancer histopathological images"
      ],
      "metadata": {
        "id": "annujBWJhwXZ"
      }
    },
    {
      "cell_type": "code",
      "source": [
        "%%capture\n",
        "!pip install -r requirements.txt"
      ],
      "metadata": {
        "id": "ASexGG3sMMId"
      },
      "execution_count": null,
      "outputs": []
    },
    {
      "cell_type": "markdown",
      "source": [
        "## Reading in Data from Dropbox"
      ],
      "metadata": {
        "id": "QZRdFZRh1Z2A"
      }
    },
    {
      "cell_type": "code",
      "source": [
        "import os\n",
        "import requests\n",
        "import tarfile\n",
        "\n",
        "# URL to download your folder\n",
        "url = \"https://www.dropbox.com/scl/fi/arkoncxpl5y1dzmviivi2/lung_image_set.tar.gz?rlkey=716vzb9dyssledyxojmxy0kr0&st=qw4unm62&dl=1\"\n",
        "\n",
        "output_path = \"/content/lung_image_set.tar.gz\"\n",
        "\n",
        "# Download the GZip folder\n",
        "response = requests.get(url)\n",
        "print(f\"HTTP Response Code: {response.status_code}\")\n",
        "\n",
        "if response.status_code == 200:\n",
        "    print(\"Download successful\")\n",
        "else:\n",
        "    print(f\"Failed to download file. HTTP status code: {response.status_code}\")\n",
        "\n",
        "with open(output_path, \"wb\") as f:\n",
        "    f.write(response.content)"
      ],
      "metadata": {
        "id": "821y5En_lkXs",
        "outputId": "084b1eb5-418c-48c3-8a7a-9d01cee00ed9",
        "colab": {
          "base_uri": "https://localhost:8080/"
        }
      },
      "execution_count": null,
      "outputs": [
        {
          "output_type": "stream",
          "name": "stdout",
          "text": [
            "HTTP Response Code: 200\n",
            "Download successful\n"
          ]
        }
      ]
    },
    {
      "cell_type": "code",
      "source": [
        "import tarfile\n",
        "\n",
        "output_path = \"/content/lung_image_set.tar.gz\"\n",
        "extract_path = \"/content/\"\n",
        "\n",
        "# Extract the .tar.gz archive\n",
        "if tarfile.is_tarfile(output_path):\n",
        "    with tarfile.open(output_path, \"r:gz\") as tar:\n",
        "        tar.extractall(path=extract_path)\n",
        "    print(\"Extraction complete\")\n",
        "else:\n",
        "    print(f\"{output_path} is not a valid .tar.gz archive\")"
      ],
      "metadata": {
        "id": "mKTrQG4KnlO8",
        "outputId": "aabf59b7-20e0-43f1-e7ba-8b4a0704307c",
        "colab": {
          "base_uri": "https://localhost:8080/"
        }
      },
      "execution_count": null,
      "outputs": [
        {
          "output_type": "stream",
          "name": "stdout",
          "text": [
            "Extraction complete\n"
          ]
        }
      ]
    },
    {
      "cell_type": "markdown",
      "source": [
        "## Preparing tabular dataset from extracted features"
      ],
      "metadata": {
        "id": "dGXRAEoMYF9l"
      }
    },
    {
      "cell_type": "code",
      "source": [
        "import os\n",
        "import cv2\n",
        "import pandas as pd\n",
        "import numpy as np\n",
        "from concurrent.futures import ProcessPoolExecutor\n",
        "from skimage.feature import graycomatrix, graycoprops, local_binary_pattern\n",
        "from skimage.measure import label, regionprops\n"
      ],
      "metadata": {
        "id": "qGxg_BLRVzMk"
      },
      "execution_count": null,
      "outputs": []
    },
    {
      "cell_type": "markdown",
      "source": [
        "For our tabular features, we will use skimage in order to extract the following features:\n",
        "- **contrast**: measures local variation\n",
        "  -  sum of squared differences between neighboring pixels. High contrast indicates a lot of variations (sharp edges), while low contrast indicates smooth variations.\n",
        "- **homogeneity**: measures how similar neighboring pixel values are\n",
        "  - Higher homogeneity means neighboring pixels have similar intensities\n",
        "- **energy**: Measures the uniformity or the sum of squared elements in the GLCM matrix\n",
        "  - Higher energy means fewer variations and a more uniform texture.\n",
        "- **correlation**: Measures how correlated a pixel with its neighbor is\n",
        "  - Higher correlation indicates strong relationships between neighboring pixel values\n",
        "- **local binary pattern**:\n",
        "  - For a given pixel, compare it with its surrounding 8 neighboring pixels.\n",
        "  - Convert these comparisons into a binary number (0s and 1s) to form a binary pattern.\n",
        "  - Count the frequency of these binary patterns across the image\n",
        "- **morphological features**:\n",
        "  - area: number of pixels within mask\n",
        "  - perimeter: length of boundary around connected region\n",
        "  - eccentricity: elongation of shape\n",
        "  - solidity: compactness of shape\n",
        "  - extent: proportion of bounding box occupied by connecting region"
      ],
      "metadata": {
        "id": "pTS_oHT-YpAA"
      }
    },
    {
      "cell_type": "code",
      "source": [
        "# Define GLCM Feature Extraction\n",
        "def extract_glcm_features(image, distances=[1], angles=[0], levels=256):\n",
        "    \"\"\"\n",
        "    Args:\n",
        "      image: grayscale image to process\n",
        "      distances: specifies number of pixels to consider to calculate GLCM\n",
        "                 in this case, only consider immediate neighboring pixels\n",
        "      angles: specifies directional relationships to consider when computing GLCM\n",
        "              0 indicates horizontal (left to right) orientations\n",
        "      levels: number of gray levels in the image, standard 8-bit grayscale\n",
        "              has (0-225) --> 256 levels.\n",
        "\n",
        "    Returns:\n",
        "      features: dictionary of GLCM features\n",
        "\n",
        "    Description:\n",
        "      This function computes a Gray-Level Co-occurrence Matrix (GLCM).\n",
        "      Using the matrix, it extracts texture features using the graycoprops\n",
        "      method in order to input into a tabular dataset.\n",
        "    \"\"\"\n",
        "\n",
        "    glcm = graycomatrix(image, distances=distances, angles=angles, levels=levels)\n",
        "    features = {\n",
        "        'contrast': graycoprops(glcm, 'contrast')[0, 0],\n",
        "        'homogeneity': graycoprops(glcm, 'homogeneity')[0, 0],\n",
        "        'energy': graycoprops(glcm, 'energy')[0, 0],\n",
        "        'correlation': graycoprops(glcm, 'correlation')[0, 0],\n",
        "    }\n",
        "    return features\n",
        "\n",
        "# Local Binary Pattern (LBP) Feature Extraction\n",
        "def extract_lbp_features(image, radius=3, n_points=24):\n",
        "    \"\"\"\n",
        "    Args:\n",
        "      image: grayscale image to process\n",
        "      radius: radius of the circular neighborhood\n",
        "      n_points: number of points in the circular neighborhood\n",
        "\n",
        "    Returns:\n",
        "      features: dictionary of LBP features\n",
        "\n",
        "    Description:\n",
        "      For each pixel in the image, the function compares its intensity with its\n",
        "      surrounding n_points neighbors. A binary pattern of 1s and 0s is created\n",
        "      if the neighboring pixel has greater intesnity than the center or less than.\n",
        "\n",
        "\n",
        "    \"\"\"\n",
        "\n",
        "    # returns an lbp pattern for each pixel in the input image\n",
        "    lbp = local_binary_pattern(image, n_points, radius, method=\"uniform\")\n",
        "    n_bins = int(lbp.max() + 1)\n",
        "\n",
        "    # We flatten the lbp matrix into a 1D array and count the frequency of each pattern\n",
        "    histogram, _ = np.histogram(lbp.ravel(), bins=n_bins, range=(0, n_bins))\n",
        "\n",
        "    # Normalize histogram to sum to 1 so that features are symmetric across images\n",
        "    histogram = histogram / histogram.sum()\n",
        "\n",
        "    # create a feature for each bin in the histogram\n",
        "    features = {f\"lbp_bin_{i}\": val for i, val in enumerate(histogram)}\n",
        "    return features\n",
        "\n",
        "# Morphological Feature Extraction\n",
        "def extract_morphological_features(mask):\n",
        "    \"\"\"\n",
        "    Args:\n",
        "      mask: binary mask of the region of interest (0 or 255 intensity)\n",
        "\n",
        "    Returns:\n",
        "      features: dictionary of morphological features\n",
        "\n",
        "    Description:\n",
        "      Uses the regionprops method to extract morphological features\n",
        "      from the image. If no regions are found, the features are set to 0.\n",
        "    \"\"\"\n",
        "    labeled_mask = label(mask)\n",
        "    regions = regionprops(labeled_mask)\n",
        "    features = {}\n",
        "    if regions:\n",
        "        region = regions[0]\n",
        "        features = {\n",
        "            'area': region.area,\n",
        "            'perimeter': region.perimeter,\n",
        "            'eccentricity': region.eccentricity,\n",
        "            'solidity': region.solidity,\n",
        "            'extent': region.extent,\n",
        "        }\n",
        "    else:\n",
        "        # set features to 0 if no regions are found\n",
        "        features = {'area': 0, 'perimeter': 0, 'eccentricity': 0, 'solidity': 0, 'extent': 0}\n",
        "    return features\n",
        "\n",
        "# Process a Single Image and Extract Features\n",
        "def process_image(cls, img_name, img_path):\n",
        "    \"\"\"\n",
        "    Args:\n",
        "      cls: class of the image\n",
        "      img_name: name of the image\n",
        "      img_path: path to the image\n",
        "\n",
        "    Returns:\n",
        "      combined_features (dict) combined glcm, lpb, and morphological features\n",
        "      in a single dictionary\n",
        "    \"\"\"\n",
        "\n",
        "    # using the OpenCV library to read an image into grayscale\n",
        "    image = cv2.imread(img_path, cv2.IMREAD_GRAYSCALE)\n",
        "\n",
        "    if image is None:\n",
        "        return None\n",
        "\n",
        "    # for each pixel, if inetensity is above 127, set to 255, else 0\n",
        "    _, binary_mask = cv2.threshold(image, 127, 255, cv2.THRESH_BINARY)\n",
        "\n",
        "    # Extract all 3 sets of features\n",
        "    glcm_features = extract_glcm_features(image)\n",
        "    lbp_features = extract_lbp_features(image)\n",
        "    morph_features = extract_morphological_features(binary_mask)\n",
        "\n",
        "    # combine and return features\n",
        "    combined_features = {\n",
        "        'class': cls,\n",
        "        'image_name': img_name,\n",
        "        **glcm_features,\n",
        "        **lbp_features,\n",
        "        **morph_features\n",
        "    }\n",
        "    return combined_features\n",
        "\n",
        "# Function to Process Images in a Subdirectory for a Class\n",
        "def process_class(cls_dir, cls):\n",
        "    \"\"\"\n",
        "    args:\n",
        "      cls_dir: path to the class directory\n",
        "      cls: class name\n",
        "    returns:\n",
        "      results: list of dictionaries containing features for each image in the class\n",
        "\n",
        "    description:\n",
        "      this intermediate function was created so that we can utilize each cpu core\n",
        "      to process each class at the same time.\n",
        "    \"\"\"\n",
        "    results = []\n",
        "    count = 0\n",
        "\n",
        "    # open the image and process\n",
        "    # if successful, append to results\n",
        "    for img_name in os.listdir(cls_dir):\n",
        "        img_path = os.path.join(cls_dir, img_name)\n",
        "        feature_data = process_image(cls, img_name, img_path)\n",
        "        if feature_data:\n",
        "            results.append(feature_data)\n",
        "\n",
        "        count += 1\n",
        "        if count % 500 == 0:\n",
        "            print(f\"{count} images processed for class {cls}\")\n",
        "\n",
        "    return results\n",
        "\n",
        "# ain Multi-core Processing Function\n",
        "def process_data(data_dir, classes, output_file):\n",
        "    \"\"\"\n",
        "    args:\n",
        "      data_dir: directory that contains original images\n",
        "      classes: list of classes that pertain to the directory\n",
        "      outputfile: path to save the output csv file\n",
        "\n",
        "    description:\n",
        "      for each class in classes, this function processed each class in parallel\n",
        "      after processing is complete, the results are concatenated and saved to a csv\n",
        "    \"\"\"\n",
        "    results = []\n",
        "    with ProcessPoolExecutor() as executor:\n",
        "        future_to_class = {\n",
        "            executor.submit(process_class, os.path.join(data_dir, cls), cls): cls for cls in classes\n",
        "        }\n",
        "        for future in future_to_class:\n",
        "            cls = future_to_class[future]\n",
        "            class_results = future.result()\n",
        "            results.extend(class_results)\n",
        "\n",
        "    df = pd.DataFrame(results)\n",
        "    df.to_csv(output_file, index=False)\n",
        "    print(f\"Features saved to {output_file}\")\n"
      ],
      "metadata": {
        "id": "AF_YoXIglfTH"
      },
      "execution_count": null,
      "outputs": []
    },
    {
      "cell_type": "code",
      "source": [
        "data_dir = '/content/content/lung_image_sets'   # replace with your dataset directory path\n",
        "output_file = 'image_features.csv'\n",
        "classes = ['lung_scc', 'lung_n', 'lung_aca']\n",
        "\n",
        "process_data(data_dir, classes, output_file)\n"
      ],
      "metadata": {
        "colab": {
          "base_uri": "https://localhost:8080/"
        },
        "id": "BHI_Q__kSIzy",
        "outputId": "d56d677b-1dbe-43c5-f9b8-3c35bf8c66a5"
      },
      "execution_count": null,
      "outputs": [
        {
          "output_type": "stream",
          "name": "stdout",
          "text": [
            "500 images processed for class lung_scc\n",
            "500 images processed for class lung_n\n",
            "500 images processed for class lung_aca\n",
            "1000 images processed for class lung_scc\n",
            "1000 images processed for class lung_aca\n",
            "1000 images processed for class lung_n\n",
            "1500 images processed for class lung_scc\n",
            "1500 images processed for class lung_aca\n",
            "1500 images processed for class lung_n\n",
            "2000 images processed for class lung_scc\n",
            "2000 images processed for class lung_aca\n",
            "2000 images processed for class lung_n\n",
            "2500 images processed for class lung_scc\n",
            "2500 images processed for class lung_aca\n",
            "2500 images processed for class lung_n\n",
            "3000 images processed for class lung_scc\n",
            "3000 images processed for class lung_aca\n",
            "3000 images processed for class lung_n\n",
            "3500 images processed for class lung_scc\n",
            "3500 images processed for class lung_aca\n",
            "3500 images processed for class lung_n\n",
            "4000 images processed for class lung_scc\n",
            "4000 images processed for class lung_aca\n",
            "4000 images processed for class lung_n\n",
            "4500 images processed for class lung_scc\n",
            "4500 images processed for class lung_aca\n",
            "4500 images processed for class lung_n\n",
            "5000 images processed for class lung_scc\n",
            "5000 images processed for class lung_aca\n",
            "5000 images processed for class lung_n\n",
            "Features saved to image_features.csv\n"
          ]
        }
      ]
    },
    {
      "cell_type": "markdown",
      "source": [
        "## Preparing Image Dataset for Benchmark"
      ],
      "metadata": {
        "id": "XyhjRo1C-8yg"
      }
    },
    {
      "cell_type": "markdown",
      "source": [
        "### Create DF for converting images into tensors"
      ],
      "metadata": {
        "id": "AJTE05LJvV3o"
      }
    },
    {
      "cell_type": "code",
      "source": [
        "import os\n",
        "import pandas as pd\n",
        "\n",
        "# Step 2: Define the function for loading data\n",
        "def loading_the_data(data_dir):\n",
        "    # Generate data paths with labels\n",
        "    filepaths = []\n",
        "    labels = []\n",
        "\n",
        "    # Get folder names (e.g., lung_aca, lung_n, lung_scc)\n",
        "    folds = os.listdir(data_dir)\n",
        "\n",
        "    print(folds)\n",
        "\n",
        "    for fold in folds:\n",
        "        foldpath = os.path.join(data_dir, fold)\n",
        "        filelist = os.listdir(foldpath)\n",
        "        print(len(filelist))\n",
        "        for file in filelist:\n",
        "            fpath = os.path.join(foldpath, file)\n",
        "\n",
        "            filepaths.append(fpath)\n",
        "            labels.append(fold)\n",
        "\n",
        "    # Concatenate data paths with labels into one DataFrame\n",
        "    Fseries = pd.Series(filepaths, name='filepaths')\n",
        "    Lseries = pd.Series(labels, name='labels')\n",
        "\n",
        "    df = pd.concat([Fseries, Lseries], axis=1)\n",
        "\n",
        "    return df"
      ],
      "metadata": {
        "id": "m-VekzDFDym9"
      },
      "execution_count": null,
      "outputs": []
    },
    {
      "cell_type": "code",
      "source": [
        "data_dir = '/content/content/lung_image_sets'\n",
        "\n",
        "# Step 5: Load the data and apply label changes\n",
        "df = loading_the_data(data_dir)\n",
        "\n",
        "\n",
        "# Display the DataFrame\n",
        "print(len(df))\n",
        "df.head()"
      ],
      "metadata": {
        "colab": {
          "base_uri": "https://localhost:8080/",
          "height": 295
        },
        "id": "D0dQKuB0A8lc",
        "outputId": "3a8f53c4-a75a-481f-bf0b-c1ca32cd68d1"
      },
      "execution_count": null,
      "outputs": [
        {
          "output_type": "stream",
          "name": "stdout",
          "text": [
            "['lung_scc', 'lung_aca', 'lung_n']\n",
            "5000\n",
            "5000\n",
            "5000\n",
            "15000\n"
          ]
        },
        {
          "output_type": "execute_result",
          "data": {
            "text/plain": [
              "                                           filepaths    labels\n",
              "0  /content/content/lung_image_sets/lung_scc/lung...  lung_scc\n",
              "1  /content/content/lung_image_sets/lung_scc/lung...  lung_scc\n",
              "2  /content/content/lung_image_sets/lung_scc/lung...  lung_scc\n",
              "3  /content/content/lung_image_sets/lung_scc/lung...  lung_scc\n",
              "4  /content/content/lung_image_sets/lung_scc/lung...  lung_scc"
            ],
            "text/html": [
              "\n",
              "  <div id=\"df-e3db47c3-8788-45c7-a81c-8eb994d63476\" class=\"colab-df-container\">\n",
              "    <div>\n",
              "<style scoped>\n",
              "    .dataframe tbody tr th:only-of-type {\n",
              "        vertical-align: middle;\n",
              "    }\n",
              "\n",
              "    .dataframe tbody tr th {\n",
              "        vertical-align: top;\n",
              "    }\n",
              "\n",
              "    .dataframe thead th {\n",
              "        text-align: right;\n",
              "    }\n",
              "</style>\n",
              "<table border=\"1\" class=\"dataframe\">\n",
              "  <thead>\n",
              "    <tr style=\"text-align: right;\">\n",
              "      <th></th>\n",
              "      <th>filepaths</th>\n",
              "      <th>labels</th>\n",
              "    </tr>\n",
              "  </thead>\n",
              "  <tbody>\n",
              "    <tr>\n",
              "      <th>0</th>\n",
              "      <td>/content/content/lung_image_sets/lung_scc/lung...</td>\n",
              "      <td>lung_scc</td>\n",
              "    </tr>\n",
              "    <tr>\n",
              "      <th>1</th>\n",
              "      <td>/content/content/lung_image_sets/lung_scc/lung...</td>\n",
              "      <td>lung_scc</td>\n",
              "    </tr>\n",
              "    <tr>\n",
              "      <th>2</th>\n",
              "      <td>/content/content/lung_image_sets/lung_scc/lung...</td>\n",
              "      <td>lung_scc</td>\n",
              "    </tr>\n",
              "    <tr>\n",
              "      <th>3</th>\n",
              "      <td>/content/content/lung_image_sets/lung_scc/lung...</td>\n",
              "      <td>lung_scc</td>\n",
              "    </tr>\n",
              "    <tr>\n",
              "      <th>4</th>\n",
              "      <td>/content/content/lung_image_sets/lung_scc/lung...</td>\n",
              "      <td>lung_scc</td>\n",
              "    </tr>\n",
              "  </tbody>\n",
              "</table>\n",
              "</div>\n",
              "    <div class=\"colab-df-buttons\">\n",
              "\n",
              "  <div class=\"colab-df-container\">\n",
              "    <button class=\"colab-df-convert\" onclick=\"convertToInteractive('df-e3db47c3-8788-45c7-a81c-8eb994d63476')\"\n",
              "            title=\"Convert this dataframe to an interactive table.\"\n",
              "            style=\"display:none;\">\n",
              "\n",
              "  <svg xmlns=\"http://www.w3.org/2000/svg\" height=\"24px\" viewBox=\"0 -960 960 960\">\n",
              "    <path d=\"M120-120v-720h720v720H120Zm60-500h600v-160H180v160Zm220 220h160v-160H400v160Zm0 220h160v-160H400v160ZM180-400h160v-160H180v160Zm440 0h160v-160H620v160ZM180-180h160v-160H180v160Zm440 0h160v-160H620v160Z\"/>\n",
              "  </svg>\n",
              "    </button>\n",
              "\n",
              "  <style>\n",
              "    .colab-df-container {\n",
              "      display:flex;\n",
              "      gap: 12px;\n",
              "    }\n",
              "\n",
              "    .colab-df-convert {\n",
              "      background-color: #E8F0FE;\n",
              "      border: none;\n",
              "      border-radius: 50%;\n",
              "      cursor: pointer;\n",
              "      display: none;\n",
              "      fill: #1967D2;\n",
              "      height: 32px;\n",
              "      padding: 0 0 0 0;\n",
              "      width: 32px;\n",
              "    }\n",
              "\n",
              "    .colab-df-convert:hover {\n",
              "      background-color: #E2EBFA;\n",
              "      box-shadow: 0px 1px 2px rgba(60, 64, 67, 0.3), 0px 1px 3px 1px rgba(60, 64, 67, 0.15);\n",
              "      fill: #174EA6;\n",
              "    }\n",
              "\n",
              "    .colab-df-buttons div {\n",
              "      margin-bottom: 4px;\n",
              "    }\n",
              "\n",
              "    [theme=dark] .colab-df-convert {\n",
              "      background-color: #3B4455;\n",
              "      fill: #D2E3FC;\n",
              "    }\n",
              "\n",
              "    [theme=dark] .colab-df-convert:hover {\n",
              "      background-color: #434B5C;\n",
              "      box-shadow: 0px 1px 3px 1px rgba(0, 0, 0, 0.15);\n",
              "      filter: drop-shadow(0px 1px 2px rgba(0, 0, 0, 0.3));\n",
              "      fill: #FFFFFF;\n",
              "    }\n",
              "  </style>\n",
              "\n",
              "    <script>\n",
              "      const buttonEl =\n",
              "        document.querySelector('#df-e3db47c3-8788-45c7-a81c-8eb994d63476 button.colab-df-convert');\n",
              "      buttonEl.style.display =\n",
              "        google.colab.kernel.accessAllowed ? 'block' : 'none';\n",
              "\n",
              "      async function convertToInteractive(key) {\n",
              "        const element = document.querySelector('#df-e3db47c3-8788-45c7-a81c-8eb994d63476');\n",
              "        const dataTable =\n",
              "          await google.colab.kernel.invokeFunction('convertToInteractive',\n",
              "                                                    [key], {});\n",
              "        if (!dataTable) return;\n",
              "\n",
              "        const docLinkHtml = 'Like what you see? Visit the ' +\n",
              "          '<a target=\"_blank\" href=https://colab.research.google.com/notebooks/data_table.ipynb>data table notebook</a>'\n",
              "          + ' to learn more about interactive tables.';\n",
              "        element.innerHTML = '';\n",
              "        dataTable['output_type'] = 'display_data';\n",
              "        await google.colab.output.renderOutput(dataTable, element);\n",
              "        const docLink = document.createElement('div');\n",
              "        docLink.innerHTML = docLinkHtml;\n",
              "        element.appendChild(docLink);\n",
              "      }\n",
              "    </script>\n",
              "  </div>\n",
              "\n",
              "\n",
              "<div id=\"df-71d45bfd-0a32-4cd1-9492-26427d1f3669\">\n",
              "  <button class=\"colab-df-quickchart\" onclick=\"quickchart('df-71d45bfd-0a32-4cd1-9492-26427d1f3669')\"\n",
              "            title=\"Suggest charts\"\n",
              "            style=\"display:none;\">\n",
              "\n",
              "<svg xmlns=\"http://www.w3.org/2000/svg\" height=\"24px\"viewBox=\"0 0 24 24\"\n",
              "     width=\"24px\">\n",
              "    <g>\n",
              "        <path d=\"M19 3H5c-1.1 0-2 .9-2 2v14c0 1.1.9 2 2 2h14c1.1 0 2-.9 2-2V5c0-1.1-.9-2-2-2zM9 17H7v-7h2v7zm4 0h-2V7h2v10zm4 0h-2v-4h2v4z\"/>\n",
              "    </g>\n",
              "</svg>\n",
              "  </button>\n",
              "\n",
              "<style>\n",
              "  .colab-df-quickchart {\n",
              "      --bg-color: #E8F0FE;\n",
              "      --fill-color: #1967D2;\n",
              "      --hover-bg-color: #E2EBFA;\n",
              "      --hover-fill-color: #174EA6;\n",
              "      --disabled-fill-color: #AAA;\n",
              "      --disabled-bg-color: #DDD;\n",
              "  }\n",
              "\n",
              "  [theme=dark] .colab-df-quickchart {\n",
              "      --bg-color: #3B4455;\n",
              "      --fill-color: #D2E3FC;\n",
              "      --hover-bg-color: #434B5C;\n",
              "      --hover-fill-color: #FFFFFF;\n",
              "      --disabled-bg-color: #3B4455;\n",
              "      --disabled-fill-color: #666;\n",
              "  }\n",
              "\n",
              "  .colab-df-quickchart {\n",
              "    background-color: var(--bg-color);\n",
              "    border: none;\n",
              "    border-radius: 50%;\n",
              "    cursor: pointer;\n",
              "    display: none;\n",
              "    fill: var(--fill-color);\n",
              "    height: 32px;\n",
              "    padding: 0;\n",
              "    width: 32px;\n",
              "  }\n",
              "\n",
              "  .colab-df-quickchart:hover {\n",
              "    background-color: var(--hover-bg-color);\n",
              "    box-shadow: 0 1px 2px rgba(60, 64, 67, 0.3), 0 1px 3px 1px rgba(60, 64, 67, 0.15);\n",
              "    fill: var(--button-hover-fill-color);\n",
              "  }\n",
              "\n",
              "  .colab-df-quickchart-complete:disabled,\n",
              "  .colab-df-quickchart-complete:disabled:hover {\n",
              "    background-color: var(--disabled-bg-color);\n",
              "    fill: var(--disabled-fill-color);\n",
              "    box-shadow: none;\n",
              "  }\n",
              "\n",
              "  .colab-df-spinner {\n",
              "    border: 2px solid var(--fill-color);\n",
              "    border-color: transparent;\n",
              "    border-bottom-color: var(--fill-color);\n",
              "    animation:\n",
              "      spin 1s steps(1) infinite;\n",
              "  }\n",
              "\n",
              "  @keyframes spin {\n",
              "    0% {\n",
              "      border-color: transparent;\n",
              "      border-bottom-color: var(--fill-color);\n",
              "      border-left-color: var(--fill-color);\n",
              "    }\n",
              "    20% {\n",
              "      border-color: transparent;\n",
              "      border-left-color: var(--fill-color);\n",
              "      border-top-color: var(--fill-color);\n",
              "    }\n",
              "    30% {\n",
              "      border-color: transparent;\n",
              "      border-left-color: var(--fill-color);\n",
              "      border-top-color: var(--fill-color);\n",
              "      border-right-color: var(--fill-color);\n",
              "    }\n",
              "    40% {\n",
              "      border-color: transparent;\n",
              "      border-right-color: var(--fill-color);\n",
              "      border-top-color: var(--fill-color);\n",
              "    }\n",
              "    60% {\n",
              "      border-color: transparent;\n",
              "      border-right-color: var(--fill-color);\n",
              "    }\n",
              "    80% {\n",
              "      border-color: transparent;\n",
              "      border-right-color: var(--fill-color);\n",
              "      border-bottom-color: var(--fill-color);\n",
              "    }\n",
              "    90% {\n",
              "      border-color: transparent;\n",
              "      border-bottom-color: var(--fill-color);\n",
              "    }\n",
              "  }\n",
              "</style>\n",
              "\n",
              "  <script>\n",
              "    async function quickchart(key) {\n",
              "      const quickchartButtonEl =\n",
              "        document.querySelector('#' + key + ' button');\n",
              "      quickchartButtonEl.disabled = true;  // To prevent multiple clicks.\n",
              "      quickchartButtonEl.classList.add('colab-df-spinner');\n",
              "      try {\n",
              "        const charts = await google.colab.kernel.invokeFunction(\n",
              "            'suggestCharts', [key], {});\n",
              "      } catch (error) {\n",
              "        console.error('Error during call to suggestCharts:', error);\n",
              "      }\n",
              "      quickchartButtonEl.classList.remove('colab-df-spinner');\n",
              "      quickchartButtonEl.classList.add('colab-df-quickchart-complete');\n",
              "    }\n",
              "    (() => {\n",
              "      let quickchartButtonEl =\n",
              "        document.querySelector('#df-71d45bfd-0a32-4cd1-9492-26427d1f3669 button');\n",
              "      quickchartButtonEl.style.display =\n",
              "        google.colab.kernel.accessAllowed ? 'block' : 'none';\n",
              "    })();\n",
              "  </script>\n",
              "</div>\n",
              "\n",
              "    </div>\n",
              "  </div>\n"
            ],
            "application/vnd.google.colaboratory.intrinsic+json": {
              "type": "dataframe",
              "variable_name": "df",
              "summary": "{\n  \"name\": \"df\",\n  \"rows\": 15000,\n  \"fields\": [\n    {\n      \"column\": \"filepaths\",\n      \"properties\": {\n        \"dtype\": \"string\",\n        \"num_unique_values\": 15000,\n        \"samples\": [\n          \"/content/content/lung_image_sets/lung_n/lungn3028.jpeg\",\n          \"/content/content/lung_image_sets/lung_aca/lungaca4764.jpeg\",\n          \"/content/content/lung_image_sets/lung_n/lungn4726.jpeg\"\n        ],\n        \"semantic_type\": \"\",\n        \"description\": \"\"\n      }\n    },\n    {\n      \"column\": \"labels\",\n      \"properties\": {\n        \"dtype\": \"category\",\n        \"num_unique_values\": 3,\n        \"samples\": [\n          \"lung_scc\",\n          \"lung_aca\",\n          \"lung_n\"\n        ],\n        \"semantic_type\": \"\",\n        \"description\": \"\"\n      }\n    }\n  ]\n}"
            }
          },
          "metadata": {},
          "execution_count": 25
        }
      ]
    },
    {
      "cell_type": "markdown",
      "source": [
        "### Creating a new folder with resized images for greater efficiency"
      ],
      "metadata": {
        "id": "oD8cBLZzngIr"
      }
    },
    {
      "cell_type": "code",
      "source": [
        "from PIL import Image\n",
        "from tqdm import tqdm\n",
        "import torch\n",
        "from torchvision.transforms import v2\n",
        "from PIL import Image"
      ],
      "metadata": {
        "id": "WN2agNgKnkQO"
      },
      "execution_count": null,
      "outputs": []
    },
    {
      "cell_type": "code",
      "source": [
        "# Target directory\n",
        "output_base_dir = '/content/pre_processed_tensors'\n",
        "os.makedirs(output_base_dir, exist_ok=True)\n",
        "\n",
        "# Define the device\n",
        "device = torch.device(\"cuda\" if torch.cuda.is_available() else \"cpu\")\n",
        "print(f\"Using device: {device}\")\n",
        "\n",
        "# Define a PyTorch transform for resizing\n",
        "transform = v2.Compose([\n",
        "    v2.Resize((299, 299)),  # Resize to 299x299\n",
        "    v2.ToTensor(),          # Convert to tensor\n",
        "    v2.Normalize(mean=[0.485, 0.456, 0.406], std=[0.229, 0.224, 0.225])\n",
        "])\n",
        "\n",
        "# Function to process and save tensors\n",
        "def process_image(row):\n",
        "    input_path = row['filepaths']\n",
        "    label = row['labels']\n",
        "    label_dir = os.path.join(output_base_dir, label)\n",
        "    os.makedirs(label_dir, exist_ok=True)\n",
        "\n",
        "    output_path = os.path.join(label_dir, os.path.basename(input_path).replace(\".jpeg\", \".pt\"))\n",
        "\n",
        "    try:\n",
        "        # Open image and apply transform\n",
        "        image = Image.open(input_path).convert(\"RGB\")  # Ensure 3 channels (RGB)\n",
        "        tensor_image = transform(image)\n",
        "\n",
        "        # Move the tensor to the GPU\n",
        "        tensor_image = tensor_image.to(device)\n",
        "\n",
        "        # Save the tensor to a .pt file\n",
        "        torch.save(tensor_image, output_path)\n",
        "    except Exception as e:\n",
        "        print(f\"Error processing {input_path}: {e}\")\n",
        "\n",
        "# Apply processing with a progress bar\n",
        "tqdm.pandas()\n",
        "df.progress_apply(process_image, axis=1)\n",
        "\n",
        "print(\"Preprocessing complete. Tensors saved.\")\n"
      ],
      "metadata": {
        "colab": {
          "base_uri": "https://localhost:8080/"
        },
        "id": "mYDWUNGyvoow",
        "outputId": "b25392c5-1927-4c80-a248-ec220bfdbb7e"
      },
      "execution_count": null,
      "outputs": [
        {
          "output_type": "stream",
          "name": "stderr",
          "text": [
            "/usr/local/lib/python3.10/dist-packages/torchvision/transforms/v2/_deprecated.py:42: UserWarning: The transform `ToTensor()` is deprecated and will be removed in a future release. Instead, please use `v2.Compose([v2.ToImage(), v2.ToDtype(torch.float32, scale=True)])`.Output is equivalent up to float precision.\n",
            "  warnings.warn(\n"
          ]
        },
        {
          "output_type": "stream",
          "name": "stdout",
          "text": [
            "Using device: cuda\n"
          ]
        },
        {
          "output_type": "stream",
          "name": "stderr",
          "text": [
            "100%|██████████| 15000/15000 [02:42<00:00, 92.48it/s]"
          ]
        },
        {
          "output_type": "stream",
          "name": "stdout",
          "text": [
            "Preprocessing complete. Tensors saved.\n"
          ]
        },
        {
          "output_type": "stream",
          "name": "stderr",
          "text": [
            "\n"
          ]
        }
      ]
    },
    {
      "cell_type": "markdown",
      "source": [
        "Create a dataframe with the tensor filepaths"
      ],
      "metadata": {
        "id": "-_Qm-qHtlPW_"
      }
    },
    {
      "cell_type": "code",
      "source": [
        "data_dir = '/content/pre_processed_tensors'\n",
        "\n",
        "# Step 5: Load the data\n",
        "df_preprocessed = loading_the_data(data_dir)\n",
        "\n",
        "# Display the DataFrame\n",
        "print(len(df_preprocessed))\n",
        "df_preprocessed.head()"
      ],
      "metadata": {
        "colab": {
          "base_uri": "https://localhost:8080/",
          "height": 295
        },
        "id": "Pz9xNs846lF1",
        "outputId": "c1f4432b-a6c7-4fa8-8514-f453f74ad7ce"
      },
      "execution_count": null,
      "outputs": [
        {
          "output_type": "stream",
          "name": "stdout",
          "text": [
            "['lung_scc', 'lung_aca', 'lung_n']\n",
            "5000\n",
            "5000\n",
            "5000\n",
            "15000\n"
          ]
        },
        {
          "output_type": "execute_result",
          "data": {
            "text/plain": [
              "                                           filepaths    labels\n",
              "0  /content/pre_processed_tensors/lung_scc/lungsc...  lung_scc\n",
              "1  /content/pre_processed_tensors/lung_scc/lungsc...  lung_scc\n",
              "2  /content/pre_processed_tensors/lung_scc/lungsc...  lung_scc\n",
              "3  /content/pre_processed_tensors/lung_scc/lungsc...  lung_scc\n",
              "4  /content/pre_processed_tensors/lung_scc/lungsc...  lung_scc"
            ],
            "text/html": [
              "\n",
              "  <div id=\"df-088b8f8b-85e6-470d-99c2-0c74f89a4a9a\" class=\"colab-df-container\">\n",
              "    <div>\n",
              "<style scoped>\n",
              "    .dataframe tbody tr th:only-of-type {\n",
              "        vertical-align: middle;\n",
              "    }\n",
              "\n",
              "    .dataframe tbody tr th {\n",
              "        vertical-align: top;\n",
              "    }\n",
              "\n",
              "    .dataframe thead th {\n",
              "        text-align: right;\n",
              "    }\n",
              "</style>\n",
              "<table border=\"1\" class=\"dataframe\">\n",
              "  <thead>\n",
              "    <tr style=\"text-align: right;\">\n",
              "      <th></th>\n",
              "      <th>filepaths</th>\n",
              "      <th>labels</th>\n",
              "    </tr>\n",
              "  </thead>\n",
              "  <tbody>\n",
              "    <tr>\n",
              "      <th>0</th>\n",
              "      <td>/content/pre_processed_tensors/lung_scc/lungsc...</td>\n",
              "      <td>lung_scc</td>\n",
              "    </tr>\n",
              "    <tr>\n",
              "      <th>1</th>\n",
              "      <td>/content/pre_processed_tensors/lung_scc/lungsc...</td>\n",
              "      <td>lung_scc</td>\n",
              "    </tr>\n",
              "    <tr>\n",
              "      <th>2</th>\n",
              "      <td>/content/pre_processed_tensors/lung_scc/lungsc...</td>\n",
              "      <td>lung_scc</td>\n",
              "    </tr>\n",
              "    <tr>\n",
              "      <th>3</th>\n",
              "      <td>/content/pre_processed_tensors/lung_scc/lungsc...</td>\n",
              "      <td>lung_scc</td>\n",
              "    </tr>\n",
              "    <tr>\n",
              "      <th>4</th>\n",
              "      <td>/content/pre_processed_tensors/lung_scc/lungsc...</td>\n",
              "      <td>lung_scc</td>\n",
              "    </tr>\n",
              "  </tbody>\n",
              "</table>\n",
              "</div>\n",
              "    <div class=\"colab-df-buttons\">\n",
              "\n",
              "  <div class=\"colab-df-container\">\n",
              "    <button class=\"colab-df-convert\" onclick=\"convertToInteractive('df-088b8f8b-85e6-470d-99c2-0c74f89a4a9a')\"\n",
              "            title=\"Convert this dataframe to an interactive table.\"\n",
              "            style=\"display:none;\">\n",
              "\n",
              "  <svg xmlns=\"http://www.w3.org/2000/svg\" height=\"24px\" viewBox=\"0 -960 960 960\">\n",
              "    <path d=\"M120-120v-720h720v720H120Zm60-500h600v-160H180v160Zm220 220h160v-160H400v160Zm0 220h160v-160H400v160ZM180-400h160v-160H180v160Zm440 0h160v-160H620v160ZM180-180h160v-160H180v160Zm440 0h160v-160H620v160Z\"/>\n",
              "  </svg>\n",
              "    </button>\n",
              "\n",
              "  <style>\n",
              "    .colab-df-container {\n",
              "      display:flex;\n",
              "      gap: 12px;\n",
              "    }\n",
              "\n",
              "    .colab-df-convert {\n",
              "      background-color: #E8F0FE;\n",
              "      border: none;\n",
              "      border-radius: 50%;\n",
              "      cursor: pointer;\n",
              "      display: none;\n",
              "      fill: #1967D2;\n",
              "      height: 32px;\n",
              "      padding: 0 0 0 0;\n",
              "      width: 32px;\n",
              "    }\n",
              "\n",
              "    .colab-df-convert:hover {\n",
              "      background-color: #E2EBFA;\n",
              "      box-shadow: 0px 1px 2px rgba(60, 64, 67, 0.3), 0px 1px 3px 1px rgba(60, 64, 67, 0.15);\n",
              "      fill: #174EA6;\n",
              "    }\n",
              "\n",
              "    .colab-df-buttons div {\n",
              "      margin-bottom: 4px;\n",
              "    }\n",
              "\n",
              "    [theme=dark] .colab-df-convert {\n",
              "      background-color: #3B4455;\n",
              "      fill: #D2E3FC;\n",
              "    }\n",
              "\n",
              "    [theme=dark] .colab-df-convert:hover {\n",
              "      background-color: #434B5C;\n",
              "      box-shadow: 0px 1px 3px 1px rgba(0, 0, 0, 0.15);\n",
              "      filter: drop-shadow(0px 1px 2px rgba(0, 0, 0, 0.3));\n",
              "      fill: #FFFFFF;\n",
              "    }\n",
              "  </style>\n",
              "\n",
              "    <script>\n",
              "      const buttonEl =\n",
              "        document.querySelector('#df-088b8f8b-85e6-470d-99c2-0c74f89a4a9a button.colab-df-convert');\n",
              "      buttonEl.style.display =\n",
              "        google.colab.kernel.accessAllowed ? 'block' : 'none';\n",
              "\n",
              "      async function convertToInteractive(key) {\n",
              "        const element = document.querySelector('#df-088b8f8b-85e6-470d-99c2-0c74f89a4a9a');\n",
              "        const dataTable =\n",
              "          await google.colab.kernel.invokeFunction('convertToInteractive',\n",
              "                                                    [key], {});\n",
              "        if (!dataTable) return;\n",
              "\n",
              "        const docLinkHtml = 'Like what you see? Visit the ' +\n",
              "          '<a target=\"_blank\" href=https://colab.research.google.com/notebooks/data_table.ipynb>data table notebook</a>'\n",
              "          + ' to learn more about interactive tables.';\n",
              "        element.innerHTML = '';\n",
              "        dataTable['output_type'] = 'display_data';\n",
              "        await google.colab.output.renderOutput(dataTable, element);\n",
              "        const docLink = document.createElement('div');\n",
              "        docLink.innerHTML = docLinkHtml;\n",
              "        element.appendChild(docLink);\n",
              "      }\n",
              "    </script>\n",
              "  </div>\n",
              "\n",
              "\n",
              "<div id=\"df-d5fc21ce-0f89-4d08-bc95-79baae3bc9a7\">\n",
              "  <button class=\"colab-df-quickchart\" onclick=\"quickchart('df-d5fc21ce-0f89-4d08-bc95-79baae3bc9a7')\"\n",
              "            title=\"Suggest charts\"\n",
              "            style=\"display:none;\">\n",
              "\n",
              "<svg xmlns=\"http://www.w3.org/2000/svg\" height=\"24px\"viewBox=\"0 0 24 24\"\n",
              "     width=\"24px\">\n",
              "    <g>\n",
              "        <path d=\"M19 3H5c-1.1 0-2 .9-2 2v14c0 1.1.9 2 2 2h14c1.1 0 2-.9 2-2V5c0-1.1-.9-2-2-2zM9 17H7v-7h2v7zm4 0h-2V7h2v10zm4 0h-2v-4h2v4z\"/>\n",
              "    </g>\n",
              "</svg>\n",
              "  </button>\n",
              "\n",
              "<style>\n",
              "  .colab-df-quickchart {\n",
              "      --bg-color: #E8F0FE;\n",
              "      --fill-color: #1967D2;\n",
              "      --hover-bg-color: #E2EBFA;\n",
              "      --hover-fill-color: #174EA6;\n",
              "      --disabled-fill-color: #AAA;\n",
              "      --disabled-bg-color: #DDD;\n",
              "  }\n",
              "\n",
              "  [theme=dark] .colab-df-quickchart {\n",
              "      --bg-color: #3B4455;\n",
              "      --fill-color: #D2E3FC;\n",
              "      --hover-bg-color: #434B5C;\n",
              "      --hover-fill-color: #FFFFFF;\n",
              "      --disabled-bg-color: #3B4455;\n",
              "      --disabled-fill-color: #666;\n",
              "  }\n",
              "\n",
              "  .colab-df-quickchart {\n",
              "    background-color: var(--bg-color);\n",
              "    border: none;\n",
              "    border-radius: 50%;\n",
              "    cursor: pointer;\n",
              "    display: none;\n",
              "    fill: var(--fill-color);\n",
              "    height: 32px;\n",
              "    padding: 0;\n",
              "    width: 32px;\n",
              "  }\n",
              "\n",
              "  .colab-df-quickchart:hover {\n",
              "    background-color: var(--hover-bg-color);\n",
              "    box-shadow: 0 1px 2px rgba(60, 64, 67, 0.3), 0 1px 3px 1px rgba(60, 64, 67, 0.15);\n",
              "    fill: var(--button-hover-fill-color);\n",
              "  }\n",
              "\n",
              "  .colab-df-quickchart-complete:disabled,\n",
              "  .colab-df-quickchart-complete:disabled:hover {\n",
              "    background-color: var(--disabled-bg-color);\n",
              "    fill: var(--disabled-fill-color);\n",
              "    box-shadow: none;\n",
              "  }\n",
              "\n",
              "  .colab-df-spinner {\n",
              "    border: 2px solid var(--fill-color);\n",
              "    border-color: transparent;\n",
              "    border-bottom-color: var(--fill-color);\n",
              "    animation:\n",
              "      spin 1s steps(1) infinite;\n",
              "  }\n",
              "\n",
              "  @keyframes spin {\n",
              "    0% {\n",
              "      border-color: transparent;\n",
              "      border-bottom-color: var(--fill-color);\n",
              "      border-left-color: var(--fill-color);\n",
              "    }\n",
              "    20% {\n",
              "      border-color: transparent;\n",
              "      border-left-color: var(--fill-color);\n",
              "      border-top-color: var(--fill-color);\n",
              "    }\n",
              "    30% {\n",
              "      border-color: transparent;\n",
              "      border-left-color: var(--fill-color);\n",
              "      border-top-color: var(--fill-color);\n",
              "      border-right-color: var(--fill-color);\n",
              "    }\n",
              "    40% {\n",
              "      border-color: transparent;\n",
              "      border-right-color: var(--fill-color);\n",
              "      border-top-color: var(--fill-color);\n",
              "    }\n",
              "    60% {\n",
              "      border-color: transparent;\n",
              "      border-right-color: var(--fill-color);\n",
              "    }\n",
              "    80% {\n",
              "      border-color: transparent;\n",
              "      border-right-color: var(--fill-color);\n",
              "      border-bottom-color: var(--fill-color);\n",
              "    }\n",
              "    90% {\n",
              "      border-color: transparent;\n",
              "      border-bottom-color: var(--fill-color);\n",
              "    }\n",
              "  }\n",
              "</style>\n",
              "\n",
              "  <script>\n",
              "    async function quickchart(key) {\n",
              "      const quickchartButtonEl =\n",
              "        document.querySelector('#' + key + ' button');\n",
              "      quickchartButtonEl.disabled = true;  // To prevent multiple clicks.\n",
              "      quickchartButtonEl.classList.add('colab-df-spinner');\n",
              "      try {\n",
              "        const charts = await google.colab.kernel.invokeFunction(\n",
              "            'suggestCharts', [key], {});\n",
              "      } catch (error) {\n",
              "        console.error('Error during call to suggestCharts:', error);\n",
              "      }\n",
              "      quickchartButtonEl.classList.remove('colab-df-spinner');\n",
              "      quickchartButtonEl.classList.add('colab-df-quickchart-complete');\n",
              "    }\n",
              "    (() => {\n",
              "      let quickchartButtonEl =\n",
              "        document.querySelector('#df-d5fc21ce-0f89-4d08-bc95-79baae3bc9a7 button');\n",
              "      quickchartButtonEl.style.display =\n",
              "        google.colab.kernel.accessAllowed ? 'block' : 'none';\n",
              "    })();\n",
              "  </script>\n",
              "</div>\n",
              "\n",
              "    </div>\n",
              "  </div>\n"
            ],
            "application/vnd.google.colaboratory.intrinsic+json": {
              "type": "dataframe",
              "variable_name": "df_preprocessed",
              "summary": "{\n  \"name\": \"df_preprocessed\",\n  \"rows\": 15000,\n  \"fields\": [\n    {\n      \"column\": \"filepaths\",\n      \"properties\": {\n        \"dtype\": \"string\",\n        \"num_unique_values\": 15000,\n        \"samples\": [\n          \"/content/pre_processed_tensors/lung_n/lungn202.pt\",\n          \"/content/pre_processed_tensors/lung_aca/lungaca2696.pt\",\n          \"/content/pre_processed_tensors/lung_n/lungn57.pt\"\n        ],\n        \"semantic_type\": \"\",\n        \"description\": \"\"\n      }\n    },\n    {\n      \"column\": \"labels\",\n      \"properties\": {\n        \"dtype\": \"category\",\n        \"num_unique_values\": 3,\n        \"samples\": [\n          \"lung_scc\",\n          \"lung_aca\",\n          \"lung_n\"\n        ],\n        \"semantic_type\": \"\",\n        \"description\": \"\"\n      }\n    }\n  ]\n}"
            }
          },
          "metadata": {},
          "execution_count": 29
        }
      ]
    },
    {
      "cell_type": "markdown",
      "source": [
        "Next we want to split the dataset into train, validation, and test while keeping an equal number of classes in each split"
      ],
      "metadata": {
        "id": "fgXBlKw_7jXh"
      }
    },
    {
      "cell_type": "code",
      "source": [
        "from sklearn.model_selection import train_test_split\n",
        "\n",
        "# split train_val into 80% train and 20% test\n",
        "train_val_df, test_df = train_test_split(df_preprocessed, test_size=0.2, random_state=42, stratify=df_preprocessed['labels'])\n",
        "\n",
        "# split train_val into 80% train and 20% validation\n",
        "train_df, val_df = train_test_split(train_val_df, test_size=0.2, random_state=42, stratify=train_val_df['labels'])\n"
      ],
      "metadata": {
        "id": "J7uDRjIj7VV-"
      },
      "execution_count": null,
      "outputs": []
    },
    {
      "cell_type": "markdown",
      "source": [
        "All lung cancer images were successfully loaded with their corresponding labels. Now we can turn each image into a tensor."
      ],
      "metadata": {
        "id": "5ACxZ1LLi-ss"
      }
    },
    {
      "cell_type": "code",
      "source": [
        "import numpy as np\n",
        "import torch\n",
        "from torch.utils.data import Dataset, DataLoader\n",
        "from torch.utils.data import random_split, Subset\n",
        "from torchvision.transforms import v2\n",
        "from PIL import Image\n",
        "import pandas as pd"
      ],
      "metadata": {
        "id": "-U-4d_H-6iMJ"
      },
      "execution_count": null,
      "outputs": []
    },
    {
      "cell_type": "markdown",
      "source": [
        "The following code loads the images into a pytorch Dataloader to easily shuffle the data and do batch processing"
      ],
      "metadata": {
        "id": "XGqcK2rS8pOK"
      }
    },
    {
      "cell_type": "code",
      "execution_count": null,
      "metadata": {
        "id": "kLRcpahCiuWE"
      },
      "outputs": [],
      "source": [
        "\n",
        "class ImageDatasetToTensor(Dataset):\n",
        "    def __init__(self, dataframe, transform=None, test_set=False, device=None):\n",
        "        \"\"\"\n",
        "        Args:\n",
        "            dataframe (pandas dataframe): Contains image paths and labels\n",
        "            transform (callable, optional): Optional transform to be applied\n",
        "                on a sample.\n",
        "\n",
        "        \"\"\"\n",
        "        self.dataframe = dataframe\n",
        "        self.transform = transform\n",
        "        self.test_set = test_set\n",
        "        self.device = device if device else torch.device(\"cpu\")\n",
        "\n",
        "        self.label_mapping = {\n",
        "            'lung_aca': 0,\n",
        "            'lung_scc': 1,\n",
        "            'lung_n': 2\n",
        "        }\n",
        "\n",
        "    def __len__(self):\n",
        "        return len(self.dataframe)\n",
        "\n",
        "    # Retrieves sample and its label based on index idx\n",
        "    def __getitem__(self, idx):\n",
        "      # convert to list for indexing if converted to tensor during batching\n",
        "        if torch.is_tensor(idx):\n",
        "            idx = idx.tolist()\n",
        "\n",
        "        tensor_path = self.dataframe.iloc[idx]['filepaths']  # Assuming file_paths is in the first column\n",
        "        #image = Image.open(f\"{img_path}\").convert('RGB') # Convert if in other format like grayscale\n",
        "        image = torch.load(f\"{tensor_path}\", map_location=self.device)  # Load directly onto the target device\n",
        "\n",
        "        if self.transform:\n",
        "            image = self.transform(image)\n",
        "\n",
        "        # return image and not label\n",
        "        if self.test_set:\n",
        "          return image\n",
        "\n",
        "        label = torch.tensor(self.label_mapping[self.dataframe.iloc[idx]['labels']], dtype=torch.long)  # Assuming label is in the second column\n",
        "        return image, label\n",
        "\n",
        "# Create separate datasets for training and validation\n",
        "train_dataset = ImageDatasetToTensor(train_df, transform=False)\n",
        "val_dataset = ImageDatasetToTensor(val_df, transform=False)\n",
        "\n",
        "train_dataloader = DataLoader(train_dataset, batch_size=32, shuffle=True)\n",
        "val_dataloader = DataLoader(val_dataset, shuffle=False) # do not shuffle validation set"
      ]
    },
    {
      "cell_type": "markdown",
      "source": [
        "We can verify the batch size of each Dataloader instance"
      ],
      "metadata": {
        "id": "RiDjg_VX9oUo"
      }
    },
    {
      "cell_type": "code",
      "source": [
        "for inputs, labels in train_dataloader:\n",
        "    print(\"Input batch size:\", inputs.shape)  # Shape of the input batch\n",
        "    print(\"Label batch size:\", labels.shape)  # Shape of the labels\n",
        "    break  # Check only the first batch"
      ],
      "metadata": {
        "colab": {
          "base_uri": "https://localhost:8080/"
        },
        "id": "bprWwjnas_FU",
        "outputId": "5065f3fc-a332-41da-f529-6b8cd7c5843b"
      },
      "execution_count": null,
      "outputs": [
        {
          "output_type": "stream",
          "name": "stdout",
          "text": [
            "Input batch size: torch.Size([32, 3, 299, 299])\n",
            "Label batch size: torch.Size([32])\n"
          ]
        },
        {
          "output_type": "stream",
          "name": "stderr",
          "text": [
            "<ipython-input-32-85ba8430714d>:32: FutureWarning: You are using `torch.load` with `weights_only=False` (the current default value), which uses the default pickle module implicitly. It is possible to construct malicious pickle data which will execute arbitrary code during unpickling (See https://github.com/pytorch/pytorch/blob/main/SECURITY.md#untrusted-models for more details). In a future release, the default value for `weights_only` will be flipped to `True`. This limits the functions that could be executed during unpickling. Arbitrary objects will no longer be allowed to be loaded via this mode unless they are explicitly allowlisted by the user via `torch.serialization.add_safe_globals`. We recommend you start setting `weights_only=True` for any use case where you don't have full control of the loaded file. Please open an issue on GitHub for any issues related to this experimental feature.\n",
            "  image = torch.load(f\"{tensor_path}\", map_location=self.device)  # Load directly onto the target device\n"
          ]
        }
      ]
    },
    {
      "cell_type": "markdown",
      "source": [
        "## Training Benchmark CNN Model"
      ],
      "metadata": {
        "id": "ihED4V9m1Hxu"
      }
    },
    {
      "cell_type": "markdown",
      "source": [
        "Now we will fintune inception_v3 to get a benchamrk accuracy"
      ],
      "metadata": {
        "id": "BaopX59y9yeB"
      }
    },
    {
      "cell_type": "code",
      "source": [
        "import torch\n",
        "import torch.nn as nn\n",
        "import torch.optim as optim"
      ],
      "metadata": {
        "id": "tELHDAZC6wwL"
      },
      "execution_count": null,
      "outputs": []
    },
    {
      "cell_type": "code",
      "source": [
        "def log_training(log_df, iteration_id, learning_rate, weight_decay, optimizer_name, num_unfrozen_layers,\n",
        "                  num_epochs, early_stopping_patience, early_stopping_min_delta,\n",
        "                  stopped_epoch, training_loss_arr, val_loss_arr, val_accuracy,\n",
        "                  log_filename=\"target_training_log.csv\"):\n",
        "    \"\"\"\n",
        "    Args:\n",
        "      log_df: dataframe template that defines csv output structure\n",
        "      hyperparameters: (iteration_id - early_stopping_min_delta) hyperparameters to keep track of\n",
        "      evaluation metrics: (stopped_epoch - val_accuracy) metrics to track\n",
        "      log_filename: name of csv file to write to\n",
        "\n",
        "    Description:\n",
        "      After each training iteration, this function will be called to create a history\n",
        "      of models created defined by their hyperparameters and evaluated on validation accuracy\n",
        "    \"\"\"\n",
        "    new_log_data = {\n",
        "        \"iteration_id\": iteration_id,\n",
        "        \"learning_rate\": learning_rate,\n",
        "        \"weight_decay\": weight_decay,\n",
        "        \"optimizer\": optimizer_name,\n",
        "        \"num_unfrozen_layers\": num_unfrozen_layers,\n",
        "        \"num_epochs\": num_epochs,\n",
        "        \"early_stopping_patience\": early_stopping_patience,\n",
        "        \"early_stopping_min_delta\": early_stopping_min_delta,\n",
        "        \"stopped_epoch\": stopped_epoch,\n",
        "        \"training_loss\": training_loss_arr,  # Full training loss history\n",
        "        \"validation_loss\": val_loss_arr,    # Full validation loss history\n",
        "        \"validation_accuracy\": val_accuracy  # Final validation accuracy\n",
        "    }\n",
        "\n",
        "    # Append new data to DataFrame\n",
        "    log_df = pd.concat([log_df, pd.DataFrame([new_log_data])], ignore_index=True)\n",
        "\n",
        "    # Append to a CSV file each time training is completed\n",
        "    if os.path.exists(log_filename):\n",
        "        log_df.to_csv(log_filename, index=False, mode='a', header=False)\n",
        "    else:\n",
        "        log_df.to_csv(log_filename, index=False)\n",
        "\n",
        "# Initialize logging\n",
        "log_df = pd.DataFrame(columns=[\n",
        "    \"iteration_id\", \"learning_rate\", \"weight_decay\",\"optimizer\", \"num_unfrozen_layers\",\n",
        "    \"num_epochs\", \"early_stopping_patience\", \"early_stopping_min_delta\",\n",
        "    \"stopped_epoch\", \"training_loss\", \"validation_loss\", \"validation_accuracy\"\n",
        "])"
      ],
      "metadata": {
        "id": "Ff5vWwJBVxQV"
      },
      "execution_count": null,
      "outputs": []
    },
    {
      "cell_type": "code",
      "source": [
        "class EarlyStopper:\n",
        "  def __init__(self, patience=1, min_delta=0):\n",
        "    self.patience = patience # epochs of no improvement before terminating\n",
        "    self.min_delta = min_delta # validation_loss needs to be within this threshold from min\n",
        "    self.counter = 0\n",
        "    self.min_validation_loss = float(\"inf\") # initial value to infinity\n",
        "\n",
        "  def early_stop(self, validation_loss):\n",
        "    if validation_loss < self.min_validation_loss:\n",
        "      self.min_validation_loss = validation_loss\n",
        "      self.counter = 0\n",
        "    elif validation_loss > (self.min_validation_loss + self.min_delta):\n",
        "      self.counter += 1\n",
        "      if self.counter >= self.patience:\n",
        "        return True\n",
        "    return False"
      ],
      "metadata": {
        "id": "VWPzwmlLaaMz"
      },
      "execution_count": null,
      "outputs": []
    },
    {
      "cell_type": "code",
      "source": [
        "iteration_id = 1\n",
        "learning_rate = 1e-3\n",
        "weight_decay = None\n",
        "optimizer_name = \"Adam\"\n",
        "num_unfrozen_layers = 2\n",
        "early_stopping_patience = 2\n",
        "early_stopping_min_delta = 0.005\n",
        "num_epochs = 2  # Maximum number of epochs\n",
        "stopped_epoch = num_epochs  # Default value\n",
        "\n",
        "# Fine tune a pre-trained model\n",
        "from torchvision import models\n",
        "\n",
        "num_classes = 3\n",
        "\n",
        "# Load a pre-trained model\n",
        "model_transfer = models.inception_v3(weights=True)\n",
        "\n",
        "# Modify the final fully connected layer\n",
        "num_ftrs = model_transfer.fc.in_features\n",
        "model_transfer.fc = nn.Linear(num_ftrs, num_classes)  # Replace with your number of classes\n",
        "\n",
        "# Freeze early layers (optional)\n",
        "# Prevents layers from being updated during backpropagation\n",
        "for param in model_transfer.parameters():\n",
        "    param.requires_grad = False\n",
        "\n",
        " # Unfreeze later layers (optional)\n",
        " # allow finetuning of later layers\n",
        "for layer in list(model_transfer.children())[-num_unfrozen_layers:]:  # Unfreeze last 10 layer\n",
        "    for param in layer.parameters():\n",
        "        param.requires_grad = True\n",
        "\n",
        "# 4. Define optimizer and loss function\n",
        "optimizer = optim.Adam(filter(lambda p: p.requires_grad, model_transfer.parameters()),\n",
        "                      lr=learning_rate)\n",
        "\n",
        "#criterion1 = nn.CrossEntropyLoss(weight=weights_tensor)\n",
        "criterion2 = nn.CrossEntropyLoss()\n",
        "\n",
        "# 5. Create DataLoader\n",
        "#dataloader = DataLoader(dataset, batch_size=32, shuffle=True)\n",
        "\n",
        "# 6. Train the model (similar to previous example)\n",
        "num_epochs = 2\n",
        "device = torch.device(\"cuda\" if torch.cuda.is_available() else \"cpu\")\n",
        "model_transfer.to(device)\n",
        "early_stopper = EarlyStopper(patience=early_stopping_patience, min_delta=early_stopping_min_delta)\n",
        "\n",
        "training_loss_arr = []\n",
        "val_loss_arr = []\n",
        "\n",
        "best_model = model_transfer\n",
        "\n",
        "# start training\n",
        "for epoch in range(num_epochs):\n",
        "\n",
        "    # set model to training mode\n",
        "    model_transfer.train()\n",
        "\n",
        "    # define loss variables for logging\n",
        "    running_loss = 0.0\n",
        "    average_train_loss = 0\n",
        "    epoch_loss = 0\n",
        "\n",
        "    # for batch in dataloader, get model output and compute loss\n",
        "    for i, data in enumerate(train_dataloader, 0):\n",
        "        inputs, labels = data[0].to(device), data[1].to(device)\n",
        "\n",
        "        optimizer.zero_grad()\n",
        "\n",
        "        outputs = model_transfer(inputs)\n",
        "        main_output, aux_output = outputs  # Extract the outputs\n",
        "\n",
        "        loss = criterion2(main_output, labels)\n",
        "        loss.backward()\n",
        "        optimizer.step()\n",
        "\n",
        "        running_loss += loss.item()\n",
        "        epoch_loss += loss.item()\n",
        "\n",
        "        if i % 100 == 99:  # Print every 100 mini-batches # i % 100 == 99\n",
        "            print(f\"[{epoch + 1}, {i + 1}] training_loss: {running_loss / 100:.3f}\")\n",
        "            running_loss = 0.0\n",
        "\n",
        "    average_train_loss = epoch_loss / len(train_dataloader)\n",
        "\n",
        "    model_transfer.eval()\n",
        "    val_loss = 0.0\n",
        "    correct = 0\n",
        "    total = 0\n",
        "    min_val_loss = 999\n",
        "\n",
        "    # after each batch evaluate on validation set\n",
        "    with torch.no_grad():\n",
        "        for data in val_dataloader:\n",
        "            inputs, labels = data[0].to(device), data[1].to(device)\n",
        "            outputs = model_transfer(inputs)\n",
        "\n",
        "            loss = criterion2(outputs, labels)\n",
        "            val_loss += loss.item()\n",
        "\n",
        "            _, predicted = torch.max(outputs.data, 1)\n",
        "            total += labels.size(0)\n",
        "            correct += (predicted == labels).sum().item()\n",
        "\n",
        "    avg_val_loss = val_loss / len(val_dataloader)\n",
        "    val_accuracy = 100 * correct / total\n",
        "\n",
        "    if avg_val_loss < min_val_loss:\n",
        "      min_val_loss = avg_val_loss\n",
        "      best_model = model_transfer\n",
        "\n",
        "    print(f\"Validation Loss: {avg_val_loss:.4f}, Validation Accuracy: {val_accuracy:.2f}%\")\n",
        "\n",
        "    training_loss_arr.append(average_train_loss)\n",
        "    val_loss_arr.append(avg_val_loss)\n",
        "\n",
        "    if early_stopper.early_stop(avg_val_loss):\n",
        "        print(\"Early stopping triggered\")\n",
        "        break\n",
        "\n",
        "log_training(\n",
        "    log_df, iteration_id, learning_rate, weight_decay, optimizer_name, num_unfrozen_layers,\n",
        "    num_epochs, early_stopping_patience, early_stopping_min_delta,\n",
        "    stopped_epoch, training_loss_arr, val_loss_arr, val_accuracy\n",
        ")\n",
        "\n",
        "print(\"Finished Training\")"
      ],
      "metadata": {
        "colab": {
          "base_uri": "https://localhost:8080/"
        },
        "id": "MMBbZBeEPNvm",
        "outputId": "83c3ec0e-3a62-46b2-eab5-c5a9b733d3bf"
      },
      "execution_count": null,
      "outputs": [
        {
          "output_type": "stream",
          "name": "stderr",
          "text": [
            "/usr/local/lib/python3.10/dist-packages/torchvision/models/_utils.py:223: UserWarning: Arguments other than a weight enum or `None` for 'weights' are deprecated since 0.13 and may be removed in the future. The current behavior is equivalent to passing `weights=Inception_V3_Weights.IMAGENET1K_V1`. You can also use `weights=Inception_V3_Weights.DEFAULT` to get the most up-to-date weights.\n",
            "  warnings.warn(msg)\n",
            "<ipython-input-32-85ba8430714d>:32: FutureWarning: You are using `torch.load` with `weights_only=False` (the current default value), which uses the default pickle module implicitly. It is possible to construct malicious pickle data which will execute arbitrary code during unpickling (See https://github.com/pytorch/pytorch/blob/main/SECURITY.md#untrusted-models for more details). In a future release, the default value for `weights_only` will be flipped to `True`. This limits the functions that could be executed during unpickling. Arbitrary objects will no longer be allowed to be loaded via this mode unless they are explicitly allowlisted by the user via `torch.serialization.add_safe_globals`. We recommend you start setting `weights_only=True` for any use case where you don't have full control of the loaded file. Please open an issue on GitHub for any issues related to this experimental feature.\n",
            "  image = torch.load(f\"{tensor_path}\", map_location=self.device)  # Load directly onto the target device\n"
          ]
        },
        {
          "output_type": "stream",
          "name": "stdout",
          "text": [
            "[1, 100] training_loss: 0.551\n",
            "[1, 200] training_loss: 0.306\n",
            "[1, 300] training_loss: 0.249\n",
            "Validation Loss: 0.1703, Validation Accuracy: 94.83%\n",
            "[2, 100] training_loss: 0.243\n",
            "[2, 200] training_loss: 0.225\n",
            "[2, 300] training_loss: 0.228\n",
            "Validation Loss: 0.1360, Validation Accuracy: 95.62%\n",
            "Finished Training\n"
          ]
        },
        {
          "output_type": "stream",
          "name": "stderr",
          "text": [
            "<ipython-input-42-567801ead5b3>:24: FutureWarning: The behavior of DataFrame concatenation with empty or all-NA entries is deprecated. In a future version, this will no longer exclude empty or all-NA columns when determining the result dtypes. To retain the old behavior, exclude the relevant entries before the concat operation.\n",
            "  log_df = pd.concat([log_df, pd.DataFrame([new_log_data])], ignore_index=True)\n"
          ]
        }
      ]
    },
    {
      "cell_type": "markdown",
      "source": [
        "When intializing weights, probabilities are around 1/54 for every single class. You can assign weights to a sample. This will multiply the loss function by the sample weight. For example, a sample of class 35 has 1 datapoint. Can assign a weight of 2 which will multiply the loss by 2."
      ],
      "metadata": {
        "id": "syj1SGFIFTtv"
      }
    },
    {
      "cell_type": "code",
      "source": [
        "avg_validation = np.array(val_loss_arr).mean()\n",
        "avg_validation"
      ],
      "metadata": {
        "colab": {
          "base_uri": "https://localhost:8080/"
        },
        "id": "38i6Y6PoDwkr",
        "outputId": "9c7f3bed-2789-4217-cdd8-e23bed18a961"
      },
      "execution_count": null,
      "outputs": [
        {
          "output_type": "execute_result",
          "data": {
            "text/plain": [
              "0.15311633223716398"
            ]
          },
          "metadata": {},
          "execution_count": 45
        }
      ]
    },
    {
      "cell_type": "code",
      "source": [
        "import matplotlib.pyplot as plt\n",
        "\n",
        "plt.plot(training_loss_arr, label='Training Loss')\n",
        "plt.plot(val_loss_arr, label='Validation Loss')\n",
        "plt.xlabel('Epoch')\n",
        "plt.ylabel('Loss')\n",
        "plt.legend()"
      ],
      "metadata": {
        "colab": {
          "base_uri": "https://localhost:8080/",
          "height": 467
        },
        "id": "DKSRwOIEpkmd",
        "outputId": "0b150805-b3d0-46f9-9042-9e0d38feb7b5"
      },
      "execution_count": null,
      "outputs": [
        {
          "output_type": "execute_result",
          "data": {
            "text/plain": [
              "<matplotlib.legend.Legend at 0x7c18d56975b0>"
            ]
          },
          "metadata": {},
          "execution_count": 46
        },
        {
          "output_type": "display_data",
          "data": {
            "text/plain": [
              "<Figure size 640x480 with 1 Axes>"
            ],
            "image/png": "[encoded data removed]"
          },
          "metadata": {}
        }
      ]
    },
    {
      "cell_type": "code",
      "source": [
        "test_dataset = ImageDatasetToTensor(test_df, transform=False)\n",
        "test_dataloader = DataLoader(test_dataset, shuffle=False)"
      ],
      "metadata": {
        "id": "7HAQEx7JFj1N"
      },
      "execution_count": null,
      "outputs": []
    },
    {
      "cell_type": "markdown",
      "source": [
        "## Evaluate the Benchmark on the held out testset"
      ],
      "metadata": {
        "id": "3So1I6kDbWoR"
      }
    },
    {
      "cell_type": "code",
      "source": [
        "# Place model in evaluation mode\n",
        "model_transfer.eval()\n",
        "\n",
        "# Initialize confusion matrix\n",
        "num_classes = 3\n",
        "conf_matrix = torch.zeros((num_classes, num_classes), dtype=torch.int64)\n",
        "\n",
        "correct = 0\n",
        "total = 0\n",
        "\n",
        "with torch.no_grad():\n",
        "    for data in test_dataloader:\n",
        "        inputs, labels = data[0].to(device), data[1].to(device)\n",
        "\n",
        "        outputs = model_transfer(inputs)\n",
        "        _, predicted = torch.max(outputs, 1)\n",
        "\n",
        "        # updating confusion matrix\n",
        "        for label, pred in zip(labels.cpu(), predicted.cpu()):\n",
        "            conf_matrix[label, pred] += 1\n",
        "\n",
        "        correct += (predicted == labels).sum().item()\n",
        "        total += labels.size(0)\n",
        "\n",
        "accuracy = 100 * correct / total\n",
        "\n",
        "print(f\"Confusion Matrix:\\n{conf_matrix}\")\n",
        "\n",
        "# calculate precision, recall, and F1 for each class\n",
        "for i in range(num_classes):\n",
        "    TP = conf_matrix[i, i].item()\n",
        "    FP = conf_matrix[:, i].sum().item() - TP\n",
        "    FN = conf_matrix[i, :].sum().item() - TP\n",
        "    TN = total - (TP + FP + FN)\n",
        "\n",
        "    precision = TP / (TP + FP) if (TP + FP) > 0 else 0\n",
        "    recall = TP / (TP + FN) if (TP + FN) > 0 else 0\n",
        "    specificity = TN / (TN + FP) if (TN + FP) > 0 else 0\n",
        "\n",
        "    print(f\"\\nClass {i}:\")\n",
        "    print(f\"Precision: {precision:.4f}\")\n",
        "    print(f\"Recall (TPR): {recall:.4f}\")\n",
        "    print(f\"Specificity: {specificity:.4f}\")\n",
        "\n",
        "print(f\"\\nOverall Test Accuracy: {accuracy:.2f}%\")\n"
      ],
      "metadata": {
        "colab": {
          "base_uri": "https://localhost:8080/"
        },
        "id": "Hb7yGyBTZ8cN",
        "outputId": "9b48b523-4a36-4aee-cd8c-2cd37551f1b3"
      },
      "execution_count": null,
      "outputs": [
        {
          "output_type": "stream",
          "name": "stderr",
          "text": [
            "<ipython-input-32-85ba8430714d>:32: FutureWarning: You are using `torch.load` with `weights_only=False` (the current default value), which uses the default pickle module implicitly. It is possible to construct malicious pickle data which will execute arbitrary code during unpickling (See https://github.com/pytorch/pytorch/blob/main/SECURITY.md#untrusted-models for more details). In a future release, the default value for `weights_only` will be flipped to `True`. This limits the functions that could be executed during unpickling. Arbitrary objects will no longer be allowed to be loaded via this mode unless they are explicitly allowlisted by the user via `torch.serialization.add_safe_globals`. We recommend you start setting `weights_only=True` for any use case where you don't have full control of the loaded file. Please open an issue on GitHub for any issues related to this experimental feature.\n",
            "  image = torch.load(f\"{tensor_path}\", map_location=self.device)  # Load directly onto the target device\n"
          ]
        },
        {
          "output_type": "stream",
          "name": "stdout",
          "text": [
            "Confusion Matrix:\n",
            "tensor([[ 929,   68,    3],\n",
            "        [  46,  954,    0],\n",
            "        [   0,    0, 1000]])\n",
            "\n",
            "Class 0:\n",
            "Precision: 0.9528\n",
            "Recall (TPR): 0.9290\n",
            "Specificity: 0.9770\n",
            "\n",
            "Class 1:\n",
            "Precision: 0.9335\n",
            "Recall (TPR): 0.9540\n",
            "Specificity: 0.9660\n",
            "\n",
            "Class 2:\n",
            "Precision: 0.9970\n",
            "Recall (TPR): 1.0000\n",
            "Specificity: 0.9985\n",
            "\n",
            "Overall Test Accuracy: 96.10%\n"
          ]
        }
      ]
    },
    {
      "cell_type": "markdown",
      "source": [
        "Plot the confusion matrix with an sns heatmap"
      ],
      "metadata": {
        "id": "b3eutjZjbLfR"
      }
    },
    {
      "cell_type": "code",
      "source": [
        "import seaborn as sns\n",
        "plt.figure(figsize=(8, 6))\n",
        "plt.title(f\"Confusion Matrix (Test Accuracy: {accuracy:.2f}%)\")\n",
        "sns.heatmap(conf_matrix.cpu().numpy(), annot=True, fmt='d', cmap='Blues',\n",
        "           xticklabels=[f'Predicted Class {i}' for i in range(num_classes)],\n",
        "           yticklabels=[f'Actual Class {i}' for i in range(num_classes)])\n",
        "plt.xlabel('Predicted')\n",
        "plt.ylabel('Actual')\n",
        "plt.show()"
      ],
      "metadata": {
        "colab": {
          "base_uri": "https://localhost:8080/",
          "height": 540
        },
        "id": "z6yk0jmEbFCo",
        "outputId": "19c97dcc-9af5-40a2-f4fc-16075c8050c2"
      },
      "execution_count": null,
      "outputs": [
        {
          "output_type": "display_data",
          "data": {
            "text/plain": [
              "<Figure size 800x600 with 2 Axes>"
            ],
            "image/png": "[encoded data removed]"
          },
          "metadata": {}
        }
      ]
    },
    {
      "cell_type": "markdown",
      "source": [
        "Class Mapping:\n",
        "- 0: Lung adenocarcinoma (lung_aca)\n",
        "- 1: Lung squamous cell carcinoma (lung_scc)\n",
        "- 2: Lung benign tissue (lung_n)"
      ],
      "metadata": {
        "id": "RD5fZcf_0fMq"
      }
    },
    {
      "cell_type": "code",
      "source": [
        "#!mv /content/benchmark_training_log.csv /content/drive/MyDrive/ng_"
      ],
      "metadata": {
        "id": "Eak2gevnbIcD"
      },
      "execution_count": null,
      "outputs": []
    }
  ]
}